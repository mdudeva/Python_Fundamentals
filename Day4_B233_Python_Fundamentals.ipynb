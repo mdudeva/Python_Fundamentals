{
 "cells": [
  {
   "cell_type": "code",
   "execution_count": 4,
   "metadata": {},
   "outputs": [
    {
     "name": "stdout",
     "output_type": "stream",
     "text": [
      "['c', 'java', 'vb', 'python']\n"
     ]
    }
   ],
   "source": [
    "#list\n",
    "languages=[\"c\",\"java\",\"vb\",\"python\"]\n",
    "print(languages)"
   ]
  },
  {
   "cell_type": "code",
   "execution_count": 5,
   "metadata": {},
   "outputs": [
    {
     "name": "stdout",
     "output_type": "stream",
     "text": [
      "vb\n"
     ]
    }
   ],
   "source": [
    "print(languages[2])"
   ]
  },
  {
   "cell_type": "code",
   "execution_count": 6,
   "metadata": {},
   "outputs": [
    {
     "name": "stdout",
     "output_type": "stream",
     "text": [
      "Vb\n"
     ]
    }
   ],
   "source": [
    "print(languages[2].title())#ENCHANCE THE ELEMENT"
   ]
  },
  {
   "cell_type": "code",
   "execution_count": 7,
   "metadata": {},
   "outputs": [],
   "source": [
    "languages[2]=\"java script\"#REASSING THE ELEMENT"
   ]
  },
  {
   "cell_type": "code",
   "execution_count": 8,
   "metadata": {},
   "outputs": [
    {
     "name": "stdout",
     "output_type": "stream",
     "text": [
      "['c', 'java', 'java script', 'python']\n"
     ]
    }
   ],
   "source": [
    "print(languages)"
   ]
  },
  {
   "cell_type": "code",
   "execution_count": 9,
   "metadata": {},
   "outputs": [
    {
     "name": "stdout",
     "output_type": "stream",
     "text": [
      "['c', 'java', 'java script', 'python', 'vb']\n"
     ]
    }
   ],
   "source": [
    "languages.append('vb')#ADDING THE ELEMENT\n",
    "print(languages)"
   ]
  },
  {
   "cell_type": "code",
   "execution_count": 10,
   "metadata": {},
   "outputs": [
    {
     "name": "stdout",
     "output_type": "stream",
     "text": [
      "['c', 'C++', 'java', 'java script', 'python', 'vb']\n"
     ]
    }
   ],
   "source": [
    "languages.insert(1,'C++')#ADDING THE ELEMENT\n",
    "print(languages)"
   ]
  },
  {
   "cell_type": "code",
   "execution_count": 12,
   "metadata": {},
   "outputs": [
    {
     "name": "stdout",
     "output_type": "stream",
     "text": [
      "['c', 'C++', 'java', 'java script', 'python', 'vb', 'sql']\n"
     ]
    }
   ],
   "source": [
    "languages.append('sql')#ADDING THE ELEMENT\n",
    "print(languages)"
   ]
  },
  {
   "cell_type": "code",
   "execution_count": 13,
   "metadata": {},
   "outputs": [
    {
     "name": "stdout",
     "output_type": "stream",
     "text": [
      "['c', 'C++', 'java', 'java script', 'python', 'vb', 'sql', 'COBOL']\n"
     ]
    }
   ],
   "source": [
    "languages.append('COBOL')#ADDING THE ELEMENT\n",
    "print(languages)"
   ]
  },
  {
   "cell_type": "code",
   "execution_count": 14,
   "metadata": {},
   "outputs": [
    {
     "name": "stdout",
     "output_type": "stream",
     "text": [
      "['c', 'C++', 'java', 'java script', 'python', 'vb', 'COBOL']\n"
     ]
    }
   ],
   "source": [
    "del languages[6]#DELETING THE ITEM\n",
    "print(languages)"
   ]
  },
  {
   "cell_type": "code",
   "execution_count": 15,
   "metadata": {},
   "outputs": [
    {
     "name": "stdout",
     "output_type": "stream",
     "text": [
      "COBOL\n"
     ]
    }
   ],
   "source": [
    "a=languages.pop()#DELETING THE ITEM\n",
    "print(a)"
   ]
  },
  {
   "cell_type": "code",
   "execution_count": 16,
   "metadata": {},
   "outputs": [
    {
     "name": "stdout",
     "output_type": "stream",
     "text": [
      "['c', 'C++', 'java', 'java script', 'python', 'vb']\n"
     ]
    }
   ],
   "source": [
    "print(languages)"
   ]
  },
  {
   "cell_type": "code",
   "execution_count": 17,
   "metadata": {},
   "outputs": [
    {
     "name": "stdout",
     "output_type": "stream",
     "text": [
      "java script\n",
      "['c', 'C++', 'java', 'python', 'vb']\n"
     ]
    }
   ],
   "source": [
    "b=languages.pop(3)#DELETING THE ITEM\n",
    "print(b)\n",
    "print(languages)"
   ]
  }
 ],
 "metadata": {
  "kernelspec": {
   "display_name": "Python 3",
   "language": "python",
   "name": "python3"
  },
  "language_info": {
   "codemirror_mode": {
    "name": "ipython",
    "version": 3
   },
   "file_extension": ".py",
   "mimetype": "text/x-python",
   "name": "python",
   "nbconvert_exporter": "python",
   "pygments_lexer": "ipython3",
   "version": "3.7.6"
  }
 },
 "nbformat": 4,
 "nbformat_minor": 4
}
