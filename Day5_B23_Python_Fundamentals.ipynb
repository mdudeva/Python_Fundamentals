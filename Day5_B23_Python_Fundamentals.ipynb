{
 "cells": [
  {
   "cell_type": "code",
   "execution_count": 1,
   "metadata": {},
   "outputs": [
    {
     "name": "stdout",
     "output_type": "stream",
     "text": [
      "Wish u a happy new year,Ram\n",
      "Wish u a happy new year,Krishna\n",
      "Wish u a happy new year,Kanna\n",
      "Wish u a happy new year,Rafi\n",
      "Wish u a happy new year,Nagaraj\n",
      "Wish u a happy new year,Ganesh\n"
     ]
    }
   ],
   "source": [
    "#introduction to for loops\n",
    "regular_customers= ['ram','krishna','kanna','rafi','nagaraj','ganesh']\n",
    "for q in regular_customers:\n",
    "    print(f\"Wish u a happy new year,{q.title()}\")"
   ]
  },
  {
   "cell_type": "code",
   "execution_count": 2,
   "metadata": {},
   "outputs": [
    {
     "name": "stdout",
     "output_type": "stream",
     "text": [
      "Wish u a happy new year,Ram\n",
      "Keep in touch and enjoy the new offers,ram\n",
      "Wish u a happy new year,Krishna\n",
      "Keep in touch and enjoy the new offers,krishna\n",
      "Wish u a happy new year,Kanna\n",
      "Keep in touch and enjoy the new offers,kanna\n",
      "Wish u a happy new year,Rafi\n",
      "Keep in touch and enjoy the new offers,rafi\n",
      "Wish u a happy new year,Nagaraj\n",
      "Keep in touch and enjoy the new offers,nagaraj\n",
      "Wish u a happy new year,Ganesh\n",
      "Keep in touch and enjoy the new offers,ganesh\n"
     ]
    }
   ],
   "source": [
    "for q in regular_customers:#adding some requirement\n",
    "    print(f\"Wish u a happy new year,{q.title()}\")\n",
    "    print(f\"Keep in touch and enjoy the new offers,{q}\")"
   ]
  },
  {
   "cell_type": "code",
   "execution_count": 3,
   "metadata": {},
   "outputs": [
    {
     "ename": "IndentationError",
     "evalue": "unexpected indent (<ipython-input-3-42aa3af3802d>, line 3)",
     "output_type": "error",
     "traceback": [
      "\u001b[1;36m  File \u001b[1;32m\"<ipython-input-3-42aa3af3802d>\"\u001b[1;36m, line \u001b[1;32m3\u001b[0m\n\u001b[1;33m    print(f\"Keep in touch and enjoy the new offers,{q}.\\n\")\u001b[0m\n\u001b[1;37m    ^\u001b[0m\n\u001b[1;31mIndentationError\u001b[0m\u001b[1;31m:\u001b[0m unexpected indent\n"
     ]
    }
   ],
   "source": [
    "for q in regular_customers:# this is indentation error bcz 2nd statement is indented\n",
    "    print(f\"Wish u a happy new year,{q.title()}\")\n",
    "     print(f\"Keep in touch and enjoy the new offers,{q}.\\n\")"
   ]
  },
  {
   "cell_type": "code",
   "execution_count": 4,
   "metadata": {},
   "outputs": [
    {
     "name": "stdout",
     "output_type": "stream",
     "text": [
      "Wish u a happy new year,Ram\n",
      "Keep in touch and enjoy the new offers,ram.\n",
      "\n",
      "Wish u a happy new year,Krishna\n",
      "Keep in touch and enjoy the new offers,krishna.\n",
      "\n",
      "Wish u a happy new year,Kanna\n",
      "Keep in touch and enjoy the new offers,kanna.\n",
      "\n",
      "Wish u a happy new year,Rafi\n",
      "Keep in touch and enjoy the new offers,rafi.\n",
      "\n",
      "Wish u a happy new year,Nagaraj\n",
      "Keep in touch and enjoy the new offers,nagaraj.\n",
      "\n",
      "Wish u a happy new year,Ganesh\n",
      "Keep in touch and enjoy the new offers,ganesh.\n",
      "\n"
     ]
    }
   ],
   "source": [
    "for q in regular_customers: #improvisation of the syntax\n",
    "    print(f\"Wish u a happy new year,{q.title()}\")\n",
    "    print(f\"Keep in touch and enjoy the new offers,{q}.\\n\")"
   ]
  },
  {
   "cell_type": "code",
   "execution_count": 5,
   "metadata": {},
   "outputs": [
    {
     "name": "stdout",
     "output_type": "stream",
     "text": [
      "Wish u a happy new year,Ram\n",
      "Keep in touch and enjoy the new offers,ram.\n",
      "\n",
      "Wish u a happy new year,Krishna\n",
      "Keep in touch and enjoy the new offers,krishna.\n",
      "\n",
      "Wish u a happy new year,Kanna\n",
      "Keep in touch and enjoy the new offers,kanna.\n",
      "\n",
      "Wish u a happy new year,Rafi\n",
      "Keep in touch and enjoy the new offers,rafi.\n",
      "\n",
      "Wish u a happy new year,Nagaraj\n",
      "Keep in touch and enjoy the new offers,nagaraj.\n",
      "\n",
      "Wish u a happy new year,Ganesh\n",
      "Keep in touch and enjoy the new offers,ganesh.\n",
      "\n",
      "Thank you all\n"
     ]
    }
   ],
   "source": [
    "for q in regular_customers: #improvisation of the syntax\n",
    "    print(f\"Wish u a happy new year,{q.title()}\")\n",
    "    print(f\"Keep in touch and enjoy the new offers,{q}.\\n\")\n",
    "    \n",
    "print('Thank you all')"
   ]
  },
  {
   "cell_type": "code",
   "execution_count": 6,
   "metadata": {},
   "outputs": [
    {
     "name": "stdout",
     "output_type": "stream",
     "text": [
      "The Zen of Python, by Tim Peters\n",
      "\n",
      "Beautiful is better than ugly.\n",
      "Explicit is better than implicit.\n",
      "Simple is better than complex.\n",
      "Complex is better than complicated.\n",
      "Flat is better than nested.\n",
      "Sparse is better than dense.\n",
      "Readability counts.\n",
      "Special cases aren't special enough to break the rules.\n",
      "Although practicality beats purity.\n",
      "Errors should never pass silently.\n",
      "Unless explicitly silenced.\n",
      "In the face of ambiguity, refuse the temptation to guess.\n",
      "There should be one-- and preferably only one --obvious way to do it.\n",
      "Although that way may not be obvious at first unless you're Dutch.\n",
      "Now is better than never.\n",
      "Although never is often better than *right* now.\n",
      "If the implementation is hard to explain, it's a bad idea.\n",
      "If the implementation is easy to explain, it may be a good idea.\n",
      "Namespaces are one honking great idea -- let's do more of those!\n"
     ]
    }
   ],
   "source": [
    "# introduction to python\n",
    "import this"
   ]
  },
  {
   "cell_type": "code",
   "execution_count": 7,
   "metadata": {},
   "outputs": [
    {
     "name": "stdout",
     "output_type": "stream",
     "text": [
      "['ram', 'krishna', 'kanna', 'rafi', 'nagaraj', 'ganesh']\n"
     ]
    }
   ],
   "source": [
    "#introduction to organising the list\n",
    "print(regular_customers)"
   ]
  },
  {
   "cell_type": "code",
   "execution_count": 8,
   "metadata": {},
   "outputs": [
    {
     "name": "stdout",
     "output_type": "stream",
     "text": [
      "['ganesh', 'kanna', 'krishna', 'nagaraj', 'rafi', 'ram']\n"
     ]
    }
   ],
   "source": [
    "print(sorted(regular_customers))#temporary sorting"
   ]
  },
  {
   "cell_type": "code",
   "execution_count": 9,
   "metadata": {},
   "outputs": [
    {
     "name": "stdout",
     "output_type": "stream",
     "text": [
      "['ram', 'krishna', 'kanna', 'rafi', 'nagaraj', 'ganesh']\n"
     ]
    }
   ],
   "source": [
    "print(regular_customers)\n",
    "regular_customers.sort()"
   ]
  },
  {
   "cell_type": "code",
   "execution_count": 11,
   "metadata": {},
   "outputs": [
    {
     "name": "stdout",
     "output_type": "stream",
     "text": [
      "['ganesh', 'kanna', 'krishna', 'nagaraj', 'rafi', 'ram']\n"
     ]
    }
   ],
   "source": [
    "regular_customers.sort()#permanent sorting\n",
    "print(regular_customers)"
   ]
  },
  {
   "cell_type": "code",
   "execution_count": 12,
   "metadata": {},
   "outputs": [
    {
     "name": "stdout",
     "output_type": "stream",
     "text": [
      "['ganesh', 'kanna', 'krishna', 'nagaraj', 'rafi', 'ram']\n"
     ]
    }
   ],
   "source": [
    "print(regular_customers)"
   ]
  },
  {
   "cell_type": "code",
   "execution_count": null,
   "metadata": {},
   "outputs": [],
   "source": []
  }
 ],
 "metadata": {
  "kernelspec": {
   "display_name": "Python 3",
   "language": "python",
   "name": "python3"
  },
  "language_info": {
   "codemirror_mode": {
    "name": "ipython",
    "version": 3
   },
   "file_extension": ".py",
   "mimetype": "text/x-python",
   "name": "python",
   "nbconvert_exporter": "python",
   "pygments_lexer": "ipython3",
   "version": "3.7.6"
  }
 },
 "nbformat": 4,
 "nbformat_minor": 4
}
